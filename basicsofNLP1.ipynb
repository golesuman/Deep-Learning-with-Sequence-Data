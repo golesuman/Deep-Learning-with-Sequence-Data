{
  "nbformat": 4,
  "nbformat_minor": 0,
  "metadata": {
    "colab": {
      "name": "basicsofNLP1.ipynb",
      "provenance": []
    },
    "kernelspec": {
      "name": "python3",
      "display_name": "Python 3"
    },
    "language_info": {
      "name": "python"
    }
  },
  "cells": [
    {
      "cell_type": "code",
      "metadata": {
        "colab": {
          "base_uri": "https://localhost:8080/"
        },
        "id": "gNIQVqt0MFVV",
        "outputId": "a07203d3-4041-4366-9419-2f2d180c3d1e"
      },
      "source": [
        "#converting the text into characters\n",
        "toy_story_review=\"Just perfect. Script, characters, animation....this manages to \\\n",
        "break free of the yoke of children's movie to simply the best movie of 90s full stop\"\n",
        "\n",
        "print(list(toy_story_review))\n",
        "# converting the text into words\n",
        "\"\"\"We will use the split function availabe in python to \n",
        "convert the full sentence\\words\"\"\"\n",
        "print(list(toy_story_review.split(' ')))\n",
        "# ngram representation\n",
        "from nltk import ngrams\n",
        "print(list(ngrams(toy_story_review.split(' '),2)))"
      ],
      "execution_count": 6,
      "outputs": [
        {
          "output_type": "stream",
          "name": "stdout",
          "text": [
            "['J', 'u', 's', 't', ' ', 'p', 'e', 'r', 'f', 'e', 'c', 't', '.', ' ', 'S', 'c', 'r', 'i', 'p', 't', ',', ' ', 'c', 'h', 'a', 'r', 'a', 'c', 't', 'e', 'r', 's', ',', ' ', 'a', 'n', 'i', 'm', 'a', 't', 'i', 'o', 'n', '.', '.', '.', '.', 't', 'h', 'i', 's', ' ', 'm', 'a', 'n', 'a', 'g', 'e', 's', ' ', 't', 'o', ' ', 'b', 'r', 'e', 'a', 'k', ' ', 'f', 'r', 'e', 'e', ' ', 'o', 'f', ' ', 't', 'h', 'e', ' ', 'y', 'o', 'k', 'e', ' ', 'o', 'f', ' ', 'c', 'h', 'i', 'l', 'd', 'r', 'e', 'n', \"'\", 's', ' ', 'm', 'o', 'v', 'i', 'e', ' ', 't', 'o', ' ', 's', 'i', 'm', 'p', 'l', 'y', ' ', 't', 'h', 'e', ' ', 'b', 'e', 's', 't', ' ', 'm', 'o', 'v', 'i', 'e', ' ', 'o', 'f', ' ', '9', '0', 's', ' ', 'f', 'u', 'l', 'l', ' ', 's', 't', 'o', 'p']\n",
            "['Just', 'perfect.', 'Script,', 'characters,', 'animation....this', 'manages', 'to', 'break', 'free', 'of', 'the', 'yoke', 'of', \"children's\", 'movie', 'to', 'simply', 'the', 'best', 'movie', 'of', '90s', 'full', 'stop']\n",
            "[('Just', 'perfect.'), ('perfect.', 'Script,'), ('Script,', 'characters,'), ('characters,', 'animation....this'), ('animation....this', 'manages'), ('manages', 'to'), ('to', 'break'), ('break', 'free'), ('free', 'of'), ('of', 'the'), ('the', 'yoke'), ('yoke', 'of'), ('of', \"children's\"), (\"children's\", 'movie'), ('movie', 'to'), ('to', 'simply'), ('simply', 'the'), ('the', 'best'), ('best', 'movie'), ('movie', 'of'), ('of', '90s'), ('90s', 'full'), ('full', 'stop')]\n"
          ]
        }
      ]
    },
    {
      "cell_type": "code",
      "metadata": {
        "id": "fzVuS1rBSYzA"
      },
      "source": [
        ""
      ],
      "execution_count": null,
      "outputs": []
    }
  ]
}